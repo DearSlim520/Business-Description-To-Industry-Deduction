{
 "cells": [
  {
   "cell_type": "code",
   "execution_count": 1,
   "metadata": {},
   "outputs": [],
   "source": [
    "# -*- coding:utf-8 -*-\n",
    "import pandas as pd\n",
    "import random\n",
    "import fasttext\n",
    "import jieba\n",
    "from sklearn.model_selection import train_test_split\n",
    "import re\n",
    "from zhon.hanzi import punctuation"
   ]
  },
  {
   "cell_type": "code",
   "execution_count": 183,
   "metadata": {},
   "outputs": [],
   "source": [
    "# 数据预处理，用pandas读取csv文件中的特定数据\n",
    "def pre_process(file):\n",
    "    source = file\n",
    "    df = pd.read_excel(source,encoding =\"utf-8\")\n",
    "    df=df.dropna()                                                 #去掉空行\n",
    "    scope=df['business_scope'].values.tolist()\n",
    "    industry=df['industry'].values.tolist()\n",
    "    \n",
    "    #分句\n",
    "    sentences=[]\n",
    "    for i,j in zip(scope,industry):\n",
    "        #去除所有特殊符号\n",
    "        string = re.sub('\\W+', '', i).replace(\"_\", '')\n",
    "        #print(string)\n",
    "        segs=jieba.lcut(str(string))                               #jieba分词\n",
    "        sentences.append(\" \".join(segs) + \"\\t\" + \"__label__\" +j)\n",
    "    \n",
    "    #乱序处理\n",
    "    random.shuffle(sentences)\n",
    "    \n",
    "    #写入为txt\n",
    "    out=open('./train_data.txt','w',encoding='utf-8')           \n",
    "    for sentence in sentences:\n",
    "        out.write(sentence+\"\\n\")\n"
   ]
  },
  {
   "cell_type": "code",
   "execution_count": 184,
   "metadata": {},
   "outputs": [],
   "source": [
    "#载入训练数据集，进行数据预处理\n",
    "pre_process('./沪交所.xlsx')"
   ]
  },
  {
   "cell_type": "code",
   "execution_count": 191,
   "metadata": {},
   "outputs": [],
   "source": [
    "#有监督学习训练数据集，导出模型为model_file.bin\n",
    "classifier = fasttext.train_supervised(\n",
    "    input = 'train_data.txt',\n",
    "    label_prefix = '__label__',\n",
    "    dim = 300,\n",
    "    epoch = 50,\n",
    "    lr = 1,\n",
    "    lr_update_rate = 30,\n",
    "    min_count = 1,\n",
    "    loss = 'softmax',\n",
    "    word_ngrams = 1,\n",
    "    bucket = 2000000)\n",
    "classifier.save_model(\"Model.bin\")"
   ]
  },
  {
   "cell_type": "code",
   "execution_count": 192,
   "metadata": {},
   "outputs": [
    {
     "name": "stdout",
     "output_type": "stream",
     "text": [
      "precision: 36.12%\n",
      "\n"
     ]
    },
    {
     "name": "stderr",
     "output_type": "stream",
     "text": [
      "Warning : `load_model` does not return WordVectorModel or SupervisedModel any more, but a `FastText` object which is very similar.\n"
     ]
    }
   ],
   "source": [
    "#测试数据集\n",
    "def test_model(file):\n",
    "    source = file\n",
    "    df = pd.read_excel(source,encoding =\"utf-8\")\n",
    "    df=df.dropna()                                                 #去掉空行\n",
    "    scope=df['business_scope'].values.tolist()\n",
    "    industry=df['industry'].values.tolist()\n",
    "    \n",
    "    #分句\n",
    "    sentences=[]\n",
    "    labels=[]\n",
    "    for i,j in zip(scope,industry):\n",
    "        # labels处理\n",
    "        labels.append(\"\".join(j))\n",
    "        \n",
    "        # sentences处理\n",
    "        string = re.sub('\\W+', '', i).replace(\"_\", '')\n",
    "        segs=jieba.lcut(str(string))                               #jieba分词\n",
    "        sentences.append(\" \".join(segs)) ##\n",
    "    \n",
    "    #写入为txt\n",
    "    #out=open('./test_data.txt','w',encoding='utf-8')               #写入sentence和result对比文件\n",
    "    out=open('./test_label.txt','w',encoding='utf-8')               #写入label和result对比文件\n",
    "    classifier = fasttext.load_model('Model.bin') \n",
    "    total_counter = 0\n",
    "    correct_counter = 0\n",
    "    total_dict = {}\n",
    "    correct_dict = {}\n",
    "    \n",
    "    for sentence,label in zip(sentences,labels):\n",
    "        result = classifier.predict(sentence, k=1)\n",
    "\n",
    "        for elem in result[0]:\n",
    "            string = re.sub('__label__', '', elem).replace(\"_\", '')\n",
    "            \n",
    "            if total_dict.get(string):                                  #有这个元素，total字典加1\n",
    "                total_dict[string] = total_dict.get(string) + 1\n",
    "            else:                                                 #没有这个元素，total字典新增且设为1，correct字典新增为0\n",
    "                total_dict[string] = 1\n",
    "                correct_dict[string] = 0\n",
    "                \n",
    "            total_counter += 1\n",
    "            if label==string:\n",
    "                correct_counter += 1\n",
    "                correct_dict[string] = correct_dict.get(string) + 1\n",
    "            \n",
    "            out.write(label +\" \"+ string + \"\\n\")                     #写入label和result对比文件\n",
    "            \n",
    "    #计算全局精度        \n",
    "    precision = (correct_counter / total_counter) * 100\n",
    "    print('precision: {:.2f}%'.format(precision))\n",
    "    print('')\n",
    "    \n",
    "    #统计二级分类各类准确率\n",
    "    dict = {}\n",
    "    output=open('分类精度统计.txt','w',encoding='utf-8')\n",
    "    for i in total_dict.items():\n",
    "        dict[i[0]] = correct_dict.get(i[0]) / total_dict.get(i[0]) * 100\n",
    "        output.write(i[0] + ': {:.2f}%'.format(dict.get(i[0])) + \"\\t\" +\"(样本数量：\"+ str(total_dict.get(i[0])) + \")\\n\")\n",
    "    \n",
    "test_model('./上交所.xlsx')"
   ]
  },
  {
   "cell_type": "code",
   "execution_count": 176,
   "metadata": {
    "scrolled": true
   },
   "outputs": [
    {
     "name": "stdout",
     "output_type": "stream",
     "text": [
      "证券\n"
     ]
    },
    {
     "name": "stderr",
     "output_type": "stream",
     "text": [
      "Warning : `load_model` does not return WordVectorModel or SupervisedModel any more, but a `FastText` object which is very similar.\n"
     ]
    }
   ],
   "source": [
    "#单一输入测试\n",
    "classifier = fasttext.load_model('Model.bin')  \n",
    "label = classifier.predict('证券 经纪 证券 投资 咨询 与 证券 交易 证券 投资 活动 有关 的 财务 顾问', k=1) \n",
    "for elem in label[0]:\n",
    "    string = re.sub('__label__', '', elem).replace(\"_\", '')\n",
    "    print(string)"
   ]
  },
  {
   "cell_type": "code",
   "execution_count": 62,
   "metadata": {
    "scrolled": false
   },
   "outputs": [
    {
     "name": "stdout",
     "output_type": "stream",
     "text": [
      "{'建筑工程': 3}\n",
      "\n"
     ]
    }
   ],
   "source": [
    "\n",
    "dict1 = {}\n",
    "dict1['建筑工程'] = 2\n",
    "dict1['建筑工程'] = dict1.get('建筑工程') + 1\n",
    "print(dict1)\n",
    "if dict1.get('建筑工程'):\n",
    "    print()"
   ]
  },
  {
   "cell_type": "code",
   "execution_count": null,
   "metadata": {},
   "outputs": [],
   "source": []
  }
 ],
 "metadata": {
  "kernelspec": {
   "display_name": "Python 3",
   "language": "python",
   "name": "python3"
  },
  "language_info": {
   "codemirror_mode": {
    "name": "ipython",
    "version": 3
   },
   "file_extension": ".py",
   "mimetype": "text/x-python",
   "name": "python",
   "nbconvert_exporter": "python",
   "pygments_lexer": "ipython3",
   "version": "3.7.4"
  }
 },
 "nbformat": 4,
 "nbformat_minor": 2
}
