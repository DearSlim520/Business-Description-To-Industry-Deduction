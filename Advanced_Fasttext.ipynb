{
 "cells": [
  {
   "cell_type": "code",
   "execution_count": 1,
   "metadata": {},
   "outputs": [],
   "source": [
    "# -*- coding:utf-8 -*-\n",
    "import pandas as pd\n",
    "import random\n",
    "import fasttext\n",
    "import jieba\n",
    "from sklearn.model_selection import train_test_split\n",
    "import re\n",
    "from zhon.hanzi import punctuation"
   ]
  },
  {
   "cell_type": "code",
   "execution_count": 2,
   "metadata": {},
   "outputs": [],
   "source": [
    "# 定义一级分类\n",
    "farm = ['种植业','林业','渔业','农业综合','饲料','农药化肥']\n",
    "coal = ['煤炭开采','石油开采','小金属','铜','特种钢','铅锌','黄金','铝','煤炭开采']\n",
    "manu = ['食品','乳制品','啤酒','白酒','纺织','服饰','其他建材','家居用品','造纸','文教休闲','石油加工','化工原料','化学制药',\n",
    "            '医疗保健','生物制药','中成药','化纤','日用化工','橡胶','塑料','玻璃','水泥','钢加工','矿物制品','元器件','机械基件',\n",
    "            '农用机械','纺织机械','化工机械','轻工机械','机床制造','专用机械','工程机械','汽车整车','汽车配件','船舶','运输设备',\n",
    "            '电气设备','电器连锁','家用电器','互联网','IT设备','通信设备','半导体','电器仪表','饲料','广告包装','陶瓷','普钢',\n",
    "            '焦炭加工','红黄酒','软饮料','摩托车']\n",
    "elec = ['供气供热','火力发电','新型电力','水力发电']\n",
    "arch = ['建筑工程','装修装饰','染料涂料']\n",
    "retail = ['批发业','超市连锁','商品城','百货']\n",
    "trans = ['运输设备','路桥','公路','水运','港口','机场','航空','仓储物流','空运','铁路','公共交通']\n",
    "acco = ['旅游服务','酒店餐饮','旅游景点']\n",
    "info = ['通信设备','互联网','电信运营','软件服务']\n",
    "eco = ['证券','多元金融','综合类','医药商业','其他商业','多元金融','石油贸易','保险']\n",
    "house = ['房产服务','区域地产','全国地产','园区开发']\n",
    "rent = ['商贸代理']\n",
    "env = ['水务','环境保护']\n",
    "service = ['汽车服务','汽车整车']\n",
    "media = ['出版业','影视音像']\n",
    "manage = ['银行']"
   ]
  },
  {
   "cell_type": "code",
   "execution_count": 3,
   "metadata": {},
   "outputs": [],
   "source": [
    "def stop_process():\n",
    "    stop = []\n",
    "    standard_stop = []\n",
    "    with open('./stopwords.txt','r',encoding='utf-8-sig') as f :\n",
    "        lines = f.readlines()  # lines是list类型\n",
    "        for line in lines:\n",
    "            lline  = line.strip()     # line 是str类型,strip 去掉\\n换行符\n",
    "            stop.append(lline)        # 将stop 是列表形式\n",
    "\n",
    "    for i in range(0,len(stop)):\n",
    "        for word in stop[i].split():\n",
    "            standard_stop.append(word)\n",
    "\n",
    "    return standard_stop"
   ]
  },
  {
   "cell_type": "code",
   "execution_count": 4,
   "metadata": {},
   "outputs": [],
   "source": [
    "# 一级分类选择\n",
    "def cata1(label):\n",
    "    if label in farm:\n",
    "        return '农、林、牧、渔业',0\n",
    "    elif label in coal:\n",
    "        return '采矿业',1\n",
    "    elif label in manu:\n",
    "        return '制造业',2\n",
    "    elif label in elec:\n",
    "        return '电力、热力、燃气及水生产和供应业',3\n",
    "    elif label in arch:\n",
    "        return '建筑业',4\n",
    "    elif label in retail:\n",
    "        return '批发和零售业',5\n",
    "    elif label in trans:\n",
    "        return '交通运输、仓储和邮政业',6\n",
    "    elif label in acco:\n",
    "        return '住宿和餐饮业',7\n",
    "    elif label in info:\n",
    "        return '信息传输、软件和信息技术服务业',8\n",
    "    elif label in eco:\n",
    "        return '金融业',9\n",
    "    elif label in house:\n",
    "        return '房地产业',10\n",
    "    elif label in rent:\n",
    "        return '租赁和商务服务业',11\n",
    "    elif label in env:\n",
    "        return '水利、环境和公共设施管理业',12\n",
    "    elif label in service:\n",
    "        return '居民服务、修理和其他服务业',13\n",
    "    elif label in media:\n",
    "        return '文化、体育和娱乐业',14\n",
    "    elif label in manage:\n",
    "        return '公共管理、社会保障和社会组织',15\n",
    "    \n",
    "    return label+'??????????????'"
   ]
  },
  {
   "cell_type": "code",
   "execution_count": 5,
   "metadata": {},
   "outputs": [],
   "source": [
    "# 返回第一次预测的下标\n",
    "def get_index(label):\n",
    "    # 有模型的大类\n",
    "    if label == '农、林、牧、渔业':\n",
    "        return 0\n",
    "    elif label == '采矿业':\n",
    "        return 1\n",
    "    elif label == '制造业':\n",
    "        return 2\n",
    "    elif label == '电力、热力、燃气及水生产和供应业':\n",
    "        return 3\n",
    "    elif label == '建筑业':\n",
    "        return 4\n",
    "    elif label == '批发和零售业':\n",
    "        return 5\n",
    "    elif label == '交通运输、仓储和邮政业':\n",
    "        return 6\n",
    "    elif label == '住宿和餐饮业':\n",
    "        return 7\n",
    "    elif label == '信息传输、软件和信息技术服务业':\n",
    "        return 8\n",
    "    elif label == '金融业':\n",
    "        return 9\n",
    "    elif label == '房地产业':\n",
    "        return 10\n",
    "    elif label == '租赁和商务服务业':\n",
    "        return 11\n",
    "    elif label == '水利、环境和公共设施管理业':\n",
    "        return 12\n",
    "    elif label == '居民服务、修理和其他服务业':\n",
    "        return 13\n",
    "    elif label == '文化、体育和娱乐业':\n",
    "        return 14\n",
    "    elif label == '公共管理、社会保障和社会组织':\n",
    "        return 15"
   ]
  },
  {
   "cell_type": "code",
   "execution_count": 6,
   "metadata": {},
   "outputs": [],
   "source": [
    "# 数据预处理，用pandas读取csv文件中的特定数据\n",
    "def pre_process(file):\n",
    "    source = file\n",
    "    df = pd.read_excel(source,encoding =\"utf-8\")\n",
    "    df=df.dropna()                                                 #去掉空行\n",
    "    scope = []\n",
    "    scope1 = df['business_scope'].values.tolist()\n",
    "    scope2 = df['main_business'].values.tolist()\n",
    "    for s1,s2 in zip(scope1, scope2,): \n",
    "        seq = (s1,s2)\n",
    "        s = \"，\".join(seq)\n",
    "        scope.append(s)\n",
    "    industry = df['industry'].values.tolist()\n",
    "    #停用词\n",
    "    stopwords = stop_process()\n",
    "    \n",
    "    #分句\n",
    "    sentences=[]\n",
    "    ori_sentences = []\n",
    "    for m in range(16):\n",
    "        ori_sentences.append([])\n",
    "    for i,j in zip(scope,industry):\n",
    "        #去除所有特殊符号\n",
    "        string = re.sub('\\W+', '', i).replace(\"_\", '')\n",
    "        string = re.sub(r\"[0-9]\", \"\", string)\n",
    "        string = re.sub(r\"[a-zA-Z]\", \"\", string)\n",
    "        \n",
    "        segs=jieba.lcut(str(string))                               #jieba分词\n",
    "        for i in range(len(segs)-1, -1, -1):\n",
    "            if segs[i] in stopwords:\n",
    "                del segs[i]\n",
    "        #一级分类\n",
    "        label,k = cata1(j)                \n",
    "        sentences.append(\" \".join(segs) + \"\\t\" + \"__label__\" +str(label))\n",
    "        #二级分类        \n",
    "        ori_sentences[k].append(\" \".join(segs) + \"\\t\" + \"__label__\" + j)\n",
    "    \n",
    "    #乱序处理\n",
    "    random.shuffle(sentences)\n",
    "    \n",
    "    #写入为txt\n",
    "    out=open('./train_data.txt','w',encoding='utf-8')           \n",
    "    for sentence in sentences:\n",
    "        out.write(sentence+\"\\n\")\n",
    "        \n",
    "    return ori_sentences\n"
   ]
  },
  {
   "cell_type": "code",
   "execution_count": 7,
   "metadata": {},
   "outputs": [
    {
     "name": "stderr",
     "output_type": "stream",
     "text": [
      "Building prefix dict from the default dictionary ...\n",
      "Dumping model to file cache /var/folders/r3/vcc58bx95zz8bl9cvt6twj2c0000gn/T/jieba.cache\n",
      "Loading model cost 0.703 seconds.\n",
      "Prefix dict has been built successfully.\n"
     ]
    }
   ],
   "source": [
    "#载入训练数据集，进行数据预处理 -> 获得（训练集数据+__label__）\n",
    "ori_sentences = pre_process('./沪交所.xlsx')"
   ]
  },
  {
   "cell_type": "code",
   "execution_count": 53,
   "metadata": {},
   "outputs": [],
   "source": [
    "#有监督学习训练数据集，导出模型为model_file.bin\n",
    "classifier = fasttext.train_supervised(\n",
    "    input = 'train_data.txt',\n",
    "    label_prefix = '__label__',\n",
    "    dim = 300,\n",
    "    epoch = 50,\n",
    "    lr = 1,\n",
    "    lr_update_rate = 30,\n",
    "    min_count = 1,\n",
    "    loss = 'softmax',\n",
    "    word_ngrams = 1,\n",
    "    bucket = 2000000)\n",
    "classifier.save_model(\"Model.bin\")"
   ]
  },
  {
   "cell_type": "code",
   "execution_count": 54,
   "metadata": {},
   "outputs": [
    {
     "name": "stdout",
     "output_type": "stream",
     "text": [
      "precision: 78.71%\n",
      "\n"
     ]
    },
    {
     "name": "stderr",
     "output_type": "stream",
     "text": [
      "Warning : `load_model` does not return WordVectorModel or SupervisedModel any more, but a `FastText` object which is very similar.\n"
     ]
    }
   ],
   "source": [
    "#测试数据：一级分类划分 -> 获得\n",
    "def test_model1(file):\n",
    "    \n",
    "    #预处理：获得正确的测试集参数\n",
    "    #1. 训练数据预处理\n",
    "    source = file\n",
    "    df = pd.read_excel(source,encoding =\"utf-8\")\n",
    "    df=df.dropna()                                                 #去掉空行\n",
    "    # 合并 business_scope 和 main_business\n",
    "    scope = []\n",
    "    scope1 = df['business_scope'].values.tolist()\n",
    "    scope2 = df['main_business'].values.tolist()\n",
    "    for s1,s2 in zip(scope1, scope2,): \n",
    "        seq = (s1,s2)\n",
    "        s = \"，\".join(seq)\n",
    "        scope.append(s)\n",
    "    industry=df['industry'].values.tolist()\n",
    "    #停用词\n",
    "    stopwords = stop_process()\n",
    "    #分句\n",
    "    sentences=[]\n",
    "    test_sentences = []\n",
    "    for n in range(16):\n",
    "        test_sentences.append([])\n",
    "    labels=[]\n",
    "    test_labels = []\n",
    "    for n in range(16):\n",
    "        test_labels.append([])\n",
    "    for i,j in zip(scope,industry):\n",
    "        \n",
    "        #2. labels=测试集正确的标签的一级分类\n",
    "        J,k = cata1(j)                \n",
    "        labels.append(\"\".join(str(J)))         \n",
    "        \n",
    "        #3. 测试集sentences处理\n",
    "        string = re.sub('\\W+', '', i).replace(\"_\", '')\n",
    "        string = re.sub(r\"[0-9]\", \"\", string)\n",
    "        string = re.sub(r\"[a-zA-Z]\", \"\", string)\n",
    "        segs=jieba.lcut(str(string))                               #jieba分词\n",
    "        for i in range(len(segs)-1, -1, -1):\n",
    "            if segs[i] in stopwords:\n",
    "                del segs[i]\n",
    "        sentences.append(\" \".join(segs))    #sentences=测试集句子\n",
    "        tmp,k = cata1(j)                \n",
    "        #4. test_sentences = 测试集句子+__label__+二级分类 \n",
    "        #   test_labels =    测试集标签正确的二级分类        \n",
    "        test_sentences[k].append(\" \".join(segs) + \"\\t\" + \"__label__\" + j)\n",
    "        test_labels[k].append(\"\".join(j))\n",
    "    \n",
    "    #5. 使用模型，获得预测结果\n",
    "    out=open('./test_label.txt','w',encoding='utf-8')               #写入label和result对比文件\n",
    "    classifier = fasttext.load_model('Model.bin') \n",
    "    total_counter = 0\n",
    "    correct_counter = 0\n",
    "    total_dict = {}\n",
    "    correct_dict = {}\n",
    "    \n",
    "    #6. pre_sentences = 测试集句子+结果，按一级分类分 [[],[],[]...]\n",
    "    pre_sentences = []\n",
    "    for n in range(16):\n",
    "        pre_sentences.append([])\n",
    "    pre_labels = []\n",
    "    for b in range(16):\n",
    "        pre_labels.append([])\n",
    "    \n",
    "    for sentence,label in zip(sentences,labels):\n",
    "        result = classifier.predict(sentence, k=1)\n",
    "        \n",
    "        for elem in result[0]:\n",
    "            string = re.sub('__label__', '', elem).replace(\"_\", '')\n",
    "            \n",
    "            if total_dict.get(string):                                  #有这个元素，total字典加1\n",
    "                total_dict[string] = total_dict.get(string) + 1\n",
    "            else:                                                 #没有这个元素，total字典新增且设为1，correct字典新增为0\n",
    "                total_dict[string] = 1\n",
    "                correct_dict[string] = 0\n",
    "                \n",
    "            total_counter += 1\n",
    "            if label==string:\n",
    "                correct_counter += 1\n",
    "                correct_dict[string] = correct_dict.get(string) + 1\n",
    "                out.write(label +\" \"+ string + \"\\n\")                     #写入label和result对比文件\n",
    "            else:\n",
    "                out.write(\"??????\"+label +\" \"+ string + \"\\n\")                     #写入label和result对比文件\n",
    "        \n",
    "        index = get_index(string) \n",
    "        pre_sentences[index].append(\" \".join(segs) + \"\\t\" + \"__label__\" + label)   #\n",
    "        pre_labels[index].append(\"\".join(label))\n",
    "            \n",
    "    #计算全局精度        \n",
    "    precision = (correct_counter / total_counter) * 100\n",
    "    print('precision: {:.2f}%'.format(precision))\n",
    "    print('')\n",
    "    \n",
    "    #统计二级分类各类准确率\n",
    "    dict = {}\n",
    "    output=open('分类精度统计.txt','w',encoding='utf-8')\n",
    "    for i in total_dict.items():\n",
    "        dict[i[0]] = correct_dict.get(i[0]) / total_dict.get(i[0]) * 100\n",
    "        output.write(i[0] + ': {:.2f}%'.format(dict.get(i[0])) + \"\\t\" +\"(样本数量：\"+ str(total_dict.get(i[0])) + \")\\n\")\n",
    "        \n",
    "    return test_sentences, test_labels, pre_sentences, pre_labels\n",
    "    \n",
    "test_sentences,test_labels, pre_sentences, pre_labels = test_model1('./上交所.xlsx')"
   ]
  },
  {
   "cell_type": "code",
   "execution_count": 55,
   "metadata": {
    "scrolled": true
   },
   "outputs": [
    {
     "name": "stdout",
     "output_type": "stream",
     "text": [
      "金融业\n"
     ]
    },
    {
     "name": "stderr",
     "output_type": "stream",
     "text": [
      "Warning : `load_model` does not return WordVectorModel or SupervisedModel any more, but a `FastText` object which is very similar.\n"
     ]
    }
   ],
   "source": [
    "#单一输入测试\n",
    "classifier = fasttext.load_model('Model.bin')  \n",
    "label = classifier.predict('证券 经纪 证券 投资 咨询 与 证券 交易 证券 投资 活动 有关 的 财务 顾问', k=1) \n",
    "for elem in label[0]:\n",
    "    string = re.sub('__label__', '', elem).replace(\"_\", '')\n",
    "    print(string)"
   ]
  },
  {
   "cell_type": "markdown",
   "metadata": {},
   "source": [
    "# 二级标题"
   ]
  },
  {
   "cell_type": "code",
   "execution_count": 56,
   "metadata": {},
   "outputs": [
    {
     "name": "stderr",
     "output_type": "stream",
     "text": [
      "Warning : `load_model` does not return WordVectorModel or SupervisedModel any more, but a `FastText` object which is very similar.\n",
      "Warning : `load_model` does not return WordVectorModel or SupervisedModel any more, but a `FastText` object which is very similar.\n",
      "Warning : `load_model` does not return WordVectorModel or SupervisedModel any more, but a `FastText` object which is very similar.\n",
      "Warning : `load_model` does not return WordVectorModel or SupervisedModel any more, but a `FastText` object which is very similar.\n"
     ]
    },
    {
     "name": "stdout",
     "output_type": "stream",
     "text": [
      "precision: 66.67%\n",
      "\n",
      "precision: 80.33%\n",
      "\n"
     ]
    },
    {
     "name": "stderr",
     "output_type": "stream",
     "text": [
      "Warning : `load_model` does not return WordVectorModel or SupervisedModel any more, but a `FastText` object which is very similar.\n",
      "Warning : `load_model` does not return WordVectorModel or SupervisedModel any more, but a `FastText` object which is very similar.\n",
      "Warning : `load_model` does not return WordVectorModel or SupervisedModel any more, but a `FastText` object which is very similar.\n",
      "Warning : `load_model` does not return WordVectorModel or SupervisedModel any more, but a `FastText` object which is very similar.\n"
     ]
    },
    {
     "name": "stdout",
     "output_type": "stream",
     "text": [
      "precision: 83.31%\n",
      "\n",
      "precision: 74.00%\n",
      "\n"
     ]
    },
    {
     "name": "stderr",
     "output_type": "stream",
     "text": [
      "Warning : `load_model` does not return WordVectorModel or SupervisedModel any more, but a `FastText` object which is very similar.\n",
      "Warning : `load_model` does not return WordVectorModel or SupervisedModel any more, but a `FastText` object which is very similar.\n",
      "Warning : `load_model` does not return WordVectorModel or SupervisedModel any more, but a `FastText` object which is very similar.\n",
      "Warning : `load_model` does not return WordVectorModel or SupervisedModel any more, but a `FastText` object which is very similar.\n"
     ]
    },
    {
     "name": "stdout",
     "output_type": "stream",
     "text": [
      "precision: 71.43%\n",
      "\n",
      "precision: 53.06%\n",
      "\n"
     ]
    },
    {
     "name": "stderr",
     "output_type": "stream",
     "text": [
      "Warning : `load_model` does not return WordVectorModel or SupervisedModel any more, but a `FastText` object which is very similar.\n",
      "Warning : `load_model` does not return WordVectorModel or SupervisedModel any more, but a `FastText` object which is very similar.\n",
      "Warning : `load_model` does not return WordVectorModel or SupervisedModel any more, but a `FastText` object which is very similar.\n",
      "Warning : `load_model` does not return WordVectorModel or SupervisedModel any more, but a `FastText` object which is very similar.\n"
     ]
    },
    {
     "name": "stdout",
     "output_type": "stream",
     "text": [
      "precision: 82.61%\n",
      "\n",
      "7- ????? 无法生成模型!\n",
      "precision: 57.14%\n",
      "\n"
     ]
    },
    {
     "name": "stderr",
     "output_type": "stream",
     "text": [
      "Warning : `load_model` does not return WordVectorModel or SupervisedModel any more, but a `FastText` object which is very similar.\n",
      "Warning : `load_model` does not return WordVectorModel or SupervisedModel any more, but a `FastText` object which is very similar.\n",
      "Warning : `load_model` does not return WordVectorModel or SupervisedModel any more, but a `FastText` object which is very similar.\n",
      "Warning : `load_model` does not return WordVectorModel or SupervisedModel any more, but a `FastText` object which is very similar.\n"
     ]
    },
    {
     "name": "stdout",
     "output_type": "stream",
     "text": [
      "precision: 65.67%\n",
      "\n",
      "precision: 73.77%\n",
      "\n",
      "11- ????? 无法生成模型!\n"
     ]
    },
    {
     "name": "stderr",
     "output_type": "stream",
     "text": [
      "Warning : `load_model` does not return WordVectorModel or SupervisedModel any more, but a `FastText` object which is very similar.\n",
      "Warning : `load_model` does not return WordVectorModel or SupervisedModel any more, but a `FastText` object which is very similar.\n",
      "Warning : `load_model` does not return WordVectorModel or SupervisedModel any more, but a `FastText` object which is very similar.\n",
      "Warning : `load_model` does not return WordVectorModel or SupervisedModel any more, but a `FastText` object which is very similar.\n"
     ]
    },
    {
     "name": "stdout",
     "output_type": "stream",
     "text": [
      "precision: 60.71%\n",
      "\n",
      "13- ????? 无法生成模型!\n",
      "precision: 86.96%\n",
      "\n",
      "precision: 100.00%\n",
      "\n",
      "****基于正确的一级分类****\n",
      "错误个数：313\n",
      "precision: : 78.69%\n"
     ]
    },
    {
     "name": "stderr",
     "output_type": "stream",
     "text": [
      "Warning : `load_model` does not return WordVectorModel or SupervisedModel any more, but a `FastText` object which is very similar.\n",
      "Warning : `load_model` does not return WordVectorModel or SupervisedModel any more, but a `FastText` object which is very similar.\n"
     ]
    }
   ],
   "source": [
    "# 二级分类训练模型，模型按照大类序号命名，其中，7、11、13样本不够没有模型\n",
    "\n",
    "def process_2(ori_sentences,sentences,labels,model_name):\n",
    "    #1. 写入为txt\n",
    "    out=open('./subTrain/train_data.txt','w',encoding='utf-8')           \n",
    "    for sentence in sentences:\n",
    "        out.write(str(sentence)+\"\\n\")\n",
    "        \n",
    "    #2. 训练模型\n",
    "    classifier = fasttext.train_supervised(\n",
    "    input = './subTrain/train_data.txt',\n",
    "    label_prefix = '__label__',\n",
    "    dim = 300,\n",
    "    epoch = 50,\n",
    "    lr = 1,\n",
    "    lr_update_rate = 30,\n",
    "    min_count = 1,\n",
    "    loss = 'softmax',\n",
    "    word_ngrams = 1,\n",
    "    bucket = 2000000)\n",
    "    classifier.save_model(model_name)\n",
    "    \n",
    "    #3. 使用模型预测结果\n",
    "    classifier = fasttext.load_model(model_name)\n",
    "    for senentence in sentences:\n",
    "        result = classifier.predict(sentence, k=1)\n",
    "        for elem in result[0]:\n",
    "            string = re.sub('__label__', '', elem).replace(\"_\", '')\n",
    "    \n",
    "    #4. 写入为txt\n",
    "    out=open('./subTrain/test_label.txt','w',encoding='utf-8')               #写入label和result对比文件\n",
    "    classifier = fasttext.load_model(model_name) \n",
    "    total_counter = 0\n",
    "    correct_counter = 0\n",
    "    total_dict = {}\n",
    "    correct_dict = {}\n",
    "    \n",
    "    for sentence,label in zip(sentences,labels):\n",
    "        result = classifier.predict(sentence, k=1)\n",
    "\n",
    "        for elem in result[0]:\n",
    "            string = re.sub('__label__', '', elem).replace(\"_\", '')\n",
    "            \n",
    "            if total_dict.get(string):                                  #有这个元素，total字典加1\n",
    "                total_dict[string] = total_dict.get(string) + 1\n",
    "            else:                                                 #没有这个元素，total字典新增且设为1，correct字典新增为0\n",
    "                total_dict[string] = 1\n",
    "                correct_dict[string] = 0\n",
    "                \n",
    "            total_counter += 1\n",
    "            if label==string:\n",
    "                correct_counter += 1\n",
    "                correct_dict[string] = correct_dict.get(string) + 1\n",
    "            \n",
    "            out.write(label +\" \"+ string + \"\\n\")                     #写入label和result对比文件\n",
    "            \n",
    "    #计算全局精度        \n",
    "    precision = (correct_counter / total_counter) * 100\n",
    "    print('precision: {:.2f}%'.format(precision))\n",
    "    print('')\n",
    "    \n",
    "    #统计二级分类各类准确率\n",
    "    dict = {}\n",
    "    output=open('./subTrain/分类精度统计.txt','a',encoding='utf-8')\n",
    "    for i in total_dict.items():\n",
    "        dict[i[0]] = correct_dict.get(i[0]) / total_dict.get(i[0]) * 100\n",
    "        output.write(i[0] + ': {:.2f}%'.format(dict.get(i[0])) + \"\\t\" +\"(样本数量：\"+ str(total_dict.get(i[0])) + \")\\n\")\n",
    "    return correct_counter, total_counter\n",
    "\n",
    "\n",
    "# 执行第二次模型构建\n",
    "all_correct = 0\n",
    "all_total = 0\n",
    "for index in range(16):\n",
    "    if len(ori_sentences[index]) > 20 or len(test_sentences[index]) > 20:\n",
    "        correct, total = process_2(ori_sentences[index],pre_sentences[index],pre_labels[index],\"./subTrain/Model\"+str(index)+\".bin\")\n",
    "        all_correct += correct\n",
    "        all_total += total\n",
    "    else:\n",
    "        print(str(index)+\"- ????? 无法生成模型!\")\n",
    "\n",
    "# 计算所有精度\n",
    "pre = all_correct / all_total * 100\n",
    "print('****基于正确的一级分类****')\n",
    "print('错误个数：' + str(all_total-all_correct))\n",
    "print('precision: ' + ': {:.2f}%'.format(pre))"
   ]
  },
  {
   "cell_type": "code",
   "execution_count": 38,
   "metadata": {},
   "outputs": [],
   "source": [
    "# 预测映射 1->2\n",
    "def reflex(label):\n",
    "    # 有模型的大类\n",
    "    if label == '农、林、牧、渔业':\n",
    "        return \"./subTrain/Model0.bin\"\n",
    "    elif label == '采矿业':\n",
    "        return \"./subTrain/Model1.bin\"\n",
    "    elif label == '制造业':\n",
    "        return \"./subTrain/Model2.bin\"\n",
    "    elif label == '电力、热力、燃气及水生产和供应业':\n",
    "        return \"./subTrain/Model3.bin\"\n",
    "    elif label == '建筑业':\n",
    "        return \"./subTrain/Model4.bin\"\n",
    "    elif label == '批发和零售业':\n",
    "        return \"./subTrain/Model5.bin\"\n",
    "    elif label == '交通运输、仓储和邮政业':\n",
    "        return \"./subTrain/Model6.bin\"\n",
    "    elif label == '信息传输、软件和信息技术服务业':\n",
    "        return \"./subTrain/Model8.bin\"\n",
    "    elif label == '金融业':\n",
    "        return \"./subTrain/Model9.bin\"\n",
    "    elif label == '房地产业':\n",
    "        return \"./subTrain/Model10.bin\"\n",
    "    elif label == '水利、环境和公共设施管理业':\n",
    "        return \"./subTrain/Model12.bin\"\n",
    "    elif label == '文化、体育和娱乐业':\n",
    "        return \"./subTrain/Model14.bin\"\n",
    "    elif label == '公共管理、社会保障和社会组织':\n",
    "        return \"./subTrain/Model15.bin\"\n",
    "    \n",
    "    #没有模型的大类（7，11，13）\n",
    "    return 0"
   ]
  },
  {
   "cell_type": "code",
   "execution_count": 39,
   "metadata": {},
   "outputs": [
    {
     "name": "stdout",
     "output_type": "stream",
     "text": [
      "金融业\n",
      "酒店餐饮\n"
     ]
    },
    {
     "name": "stderr",
     "output_type": "stream",
     "text": [
      "Warning : `load_model` does not return WordVectorModel or SupervisedModel any more, but a `FastText` object which is very similar.\n",
      "Warning : `load_model` does not return WordVectorModel or SupervisedModel any more, but a `FastText` object which is very similar.\n",
      "Warning : `load_model` does not return WordVectorModel or SupervisedModel any more, but a `FastText` object which is very similar.\n"
     ]
    }
   ],
   "source": [
    "#单一输入测试(二级分类)\n",
    "def predict(sample):\n",
    "    classifier = fasttext.load_model('Model.bin')  \n",
    "    label = classifier.predict(sample, k=1) \n",
    "    for elem in label[0]:\n",
    "        string = re.sub('__label__', '', elem).replace(\"_\", '')\n",
    "        mode_addr = reflex(string)\n",
    "        # 二级分类\n",
    "        if mode_addr != 0:\n",
    "            new_classifier = fasttext.load_model(mode_addr)  \n",
    "            new_label = new_classifier.predict(sample, k=1)\n",
    "            for ele in new_label[0]:\n",
    "                new_string = re.sub('__label__', '', ele).replace(\"_\", '')\n",
    "                print(new_string)\n",
    "        else:\n",
    "            if string == '住宿和餐饮业':\n",
    "                if ('服务' and '旅游' and '管理' and '开发') in sample:\n",
    "                    print('旅游服务')\n",
    "                    break\n",
    "                elif ('酒店' and '餐饮') in sample:\n",
    "                    print('酒店餐饮')\n",
    "                    break\n",
    "                elif ('景区' or '景点' or '房地产' or '客运' or '索道' or '建设') in sample:\n",
    "                    print('旅游景点')\n",
    "                    break\n",
    "            elif string == '租赁和商务服务业':\n",
    "                print('商贸代理')\n",
    "                break\n",
    "            elif string == '居民服务、修理和其他服务业':\n",
    "                if '管理' in sample:\n",
    "                    print('汽车服务')\n",
    "                    break\n",
    "                else:\n",
    "                    print('汽车整车')\n",
    "                    break\n",
    "            else:\n",
    "                print('其他')\n",
    "            \n",
    "\n",
    "predict('证券 经纪 证券 投资 咨询 与 证券 交易 证券 投资 活动 有关 的 财务 顾问')\n",
    "predict('酒店 餐饮 客房 产品')"
   ]
  },
  {
   "cell_type": "code",
   "execution_count": null,
   "metadata": {},
   "outputs": [],
   "source": []
  }
 ],
 "metadata": {
  "kernelspec": {
   "display_name": "Python 3",
   "language": "python",
   "name": "python3"
  },
  "language_info": {
   "codemirror_mode": {
    "name": "ipython",
    "version": 3
   },
   "file_extension": ".py",
   "mimetype": "text/x-python",
   "name": "python",
   "nbconvert_exporter": "python",
   "pygments_lexer": "ipython3",
   "version": "3.7.4"
  }
 },
 "nbformat": 4,
 "nbformat_minor": 2
}
